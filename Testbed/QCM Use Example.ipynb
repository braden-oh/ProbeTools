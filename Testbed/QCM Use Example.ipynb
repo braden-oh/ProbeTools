{
 "cells": [
  {
   "cell_type": "code",
   "execution_count": 1,
   "metadata": {},
   "outputs": [],
   "source": [
    "import os\n",
    "from QCM import *"
   ]
  },
  {
   "cell_type": "markdown",
   "metadata": {},
   "source": [
    "## Precursory Information\n",
    "* The scripts assume that there is exactly one header line of the form \"XTC/3 Data Log 7/9/2025 3:35:18 PM.\"  This is the default header created by the XTC reader.  This requires that you do not stop and then restart recording in XTC without moving to a new filename.\n",
    "* The parser requires that the output from XTC includes the following items: *Timestamp, Rate, Thickness, State Time, Raw Frequency*\n",
    "* The ```load_QCM(path, bins=5)``` command loads data from a single file.  The command averages measurements by binning the data.  It defaults to 5 second bin widths.\n",
    "* The ```process_directory(path)``` command will parse an entire directory by searching for filenames containing the string 'QCM' and ending in '.txt'.\n",
    "* Requires Python libraries *pymc, pandas, and numpy*\n",
    "\n",
    "## Single file usage example"
   ]
  },
  {
   "cell_type": "code",
   "execution_count": 26,
   "metadata": {},
   "outputs": [
    {
     "data": {
      "text/plain": [
       "Text(0, 0.5, 'Film Thickness [kAng]')"
      ]
     },
     "execution_count": 26,
     "metadata": {},
     "output_type": "execute_result"
    },
    {
     "data": {
      "image/png": "[encoded data removed]",
      "text/plain": [
       "<Figure size 640x480 with 1 Axes>"
      ]
     },
     "metadata": {},
     "output_type": "display_data"
    }
   ],
   "source": [
    "# Filepath to a target QCM file\n",
    "path = '/Users/braden/Documents/ProbeTools/Testbed/Random QCM File Name.txt'\n",
    "\n",
    "# Load the data out of the file (and convert frequencies to thicknesses)\n",
    "times, freqs, thics = load_QCM(path, bins=5)\n",
    "\n",
    "# Plot the data\n",
    "plt.plot(times, thics, 'b.', alpha=0.5)\n",
    "plt.xlabel('Time [s]')\n",
    "plt.ylabel('Film Thickness [kAng]')"
   ]
  },
  {
   "cell_type": "code",
   "execution_count": 6,
   "metadata": {},
   "outputs": [
    {
     "name": "stderr",
     "output_type": "stream",
     "text": [
      "Auto-assigning NUTS sampler...\n",
      "Initializing NUTS using jitter+adapt_diag...\n",
      "Multiprocess sampling (4 chains in 4 jobs)\n",
      "NUTS: [intercept, slope, sigma, nu]\n"
     ]
    },
    {
     "data": {
      "application/vnd.jupyter.widget-view+json": {
       "model_id": "8eb902178a2249f19a59c4a883aa62f1",
       "version_major": 2,
       "version_minor": 0
      },
      "text/plain": [
       "Output()"
      ]
     },
     "metadata": {},
     "output_type": "display_data"
    },
    {
     "data": {
      "text/html": [
       "<pre style=\"white-space:pre;overflow-x:auto;line-height:normal;font-family:Menlo,'DejaVu Sans Mono',consolas,'Courier New',monospace\"></pre>\n"
      ],
      "text/plain": []
     },
     "metadata": {},
     "output_type": "display_data"
    },
    {
     "name": "stderr",
     "output_type": "stream",
     "text": [
      "Sampling 4 chains for 1_000 tune and 3_000 draw iterations (4_000 + 12_000 draws total) took 8 seconds.\n"
     ]
    },
    {
     "name": "stdout",
     "output_type": "stream",
     "text": [
      "Mean slope: 4.206e-07 ± 1.3e-08\n",
      "Mean intercept: 4.598e-05 ± 4.9e-06\n"
     ]
    }
   ],
   "source": [
    "# Fit a line to the data.  \n",
    "# Note that slope is a fit to the data, so has units of kAng/s\n",
    "slope, y_int, ci_95 = bayesian_linreg_mcmc(times, thics)"
   ]
  },
  {
   "cell_type": "code",
   "execution_count": 27,
   "metadata": {},
   "outputs": [
    {
     "name": "stdout",
     "output_type": "stream",
     "text": [
      "        Deposition rate: 1.5142e-01 um/kHr\n",
      "95% confidence interval: 1.4216e-01 to 1.6064e-01 um/kHr\n"
     ]
    }
   ],
   "source": [
    "# Convert the slope in [kAng/s] to [um/kHr] (the thin-film deposition unit of convention, despite being a stupid unit)\n",
    "rate = um_kHr(slope)\n",
    "print(f'        Deposition rate: {rate:.4e} um/kHr')\n",
    "print(f'95% confidence interval: {um_kHr(ci_95[0]):.4e} to {um_kHr(ci_95[1]):.4e} um/kHr')\n"
   ]
  },
  {
   "cell_type": "markdown",
   "metadata": {},
   "source": [
    "## Simple parsing of an entire directory\n",
    "\n",
    "For the simple case of fitting a line to the full set of data from every QCM log in a directory, go ahead and use the single command ```process_directory(dir_path)```.  The code will automatically identify all files containing the string 'QCM' and ending with '.txt', parse them, fit a line to them (using both Bayesian inference and the RANSAC algorithm) and then save the outputs to a database called \"QCM Database.csv\".  It will also generate images of the fit lines inside the target directory in a folder called \"Figures\".  You'll find images for both the RANSAC fits and the Bayesian fits."
   ]
  },
  {
   "cell_type": "code",
   "execution_count": 2,
   "metadata": {},
   "outputs": [
    {
     "name": "stdout",
     "output_type": "stream",
     "text": [
      "-----\n",
      "Obtaining breakpoints...\n",
      "-----\n",
      "Constructing database...\n",
      "Found existing QCM database file.\n",
      "--- QCM_26-68deg_150V_300V_suppression_bias.txt ---\n",
      "Bayesian fit found.  Continuing...\n",
      "RANSAC fit found.  Continuing...\n",
      "--- QCM_26-68deg_100V_300V_suppression_bias.txt ---\n",
      "Bayesian fit found.  Continuing...\n",
      "RANSAC fit found.  Continuing...\n",
      "--- QCM_26-68deg_0V_no_suppression_bias.txt ---\n",
      "Bayesian fit found.  Continuing...\n",
      "RANSAC fit found.  Continuing...\n",
      "--- Random QCM File Name.txt ---\n",
      "Bayesian fit found.  Continuing...\n",
      "RANSAC fit found.  Continuing...\n",
      "--- QCM_26-68deg_0V_300V_suppression_bias.txt ---\n",
      "Bayesian fit found.  Continuing...\n",
      "RANSAC fit found.  Continuing...\n",
      "--- QCM_26-68deg_34V_300V_suppression_bias.txt ---\n",
      "Bayesian fit found.  Continuing...\n",
      "RANSAC fit found.  Continuing...\n",
      "--- QCM_26-68deg_34V_no_suppression_bias.txt ---\n",
      "Bayesian fit found.  Continuing...\n",
      "RANSAC fit found.  Continuing...\n",
      "-----\n",
      "Saved QCM database to /Users/braden/Documents/ProbeTools/Testbed/QCM Database.csv\n",
      "QCM database construction complete.\n",
      "-----\n"
     ]
    },
    {
     "data": {
      "text/html": [
       "<div>\n",
       "<style scoped>\n",
       "    .dataframe tbody tr th:only-of-type {\n",
       "        vertical-align: middle;\n",
       "    }\n",
       "\n",
       "    .dataframe tbody tr th {\n",
       "        vertical-align: top;\n",
       "    }\n",
       "\n",
       "    .dataframe thead th {\n",
       "        text-align: right;\n",
       "    }\n",
       "</style>\n",
       "<table border=\"1\" class=\"dataframe\">\n",
       "  <thead>\n",
       "    <tr style=\"text-align: right;\">\n",
       "      <th></th>\n",
       "      <th>Filename</th>\n",
       "      <th>Slope</th>\n",
       "      <th>Lower ci</th>\n",
       "      <th>Upper ci</th>\n",
       "      <th>y_int</th>\n",
       "      <th>Rate</th>\n",
       "      <th>Lower Rate</th>\n",
       "      <th>Upper Rate</th>\n",
       "      <th>Start</th>\n",
       "      <th>End</th>\n",
       "      <th>RANSAC_m</th>\n",
       "      <th>RANSAC_b</th>\n",
       "      <th>RANSAC Rate</th>\n",
       "    </tr>\n",
       "  </thead>\n",
       "  <tbody>\n",
       "    <tr>\n",
       "      <th>0</th>\n",
       "      <td>QCM_26-68deg_150V_300V_suppression_bias.txt</td>\n",
       "      <td>3.277769e-07</td>\n",
       "      <td>3.153623e-07</td>\n",
       "      <td>3.400715e-07</td>\n",
       "      <td>-8.480755e-06</td>\n",
       "      <td>0.118000</td>\n",
       "      <td>0.113530</td>\n",
       "      <td>0.122426</td>\n",
       "      <td>0</td>\n",
       "      <td>242</td>\n",
       "      <td>3.278580e-07</td>\n",
       "      <td>-8.879341e-06</td>\n",
       "      <td>0.118029</td>\n",
       "    </tr>\n",
       "    <tr>\n",
       "      <th>1</th>\n",
       "      <td>QCM_26-68deg_100V_300V_suppression_bias.txt</td>\n",
       "      <td>2.269526e-07</td>\n",
       "      <td>2.205683e-07</td>\n",
       "      <td>2.333023e-07</td>\n",
       "      <td>-3.074865e-07</td>\n",
       "      <td>0.081703</td>\n",
       "      <td>0.079405</td>\n",
       "      <td>0.083989</td>\n",
       "      <td>0</td>\n",
       "      <td>237</td>\n",
       "      <td>2.277113e-07</td>\n",
       "      <td>-4.254650e-07</td>\n",
       "      <td>0.081976</td>\n",
       "    </tr>\n",
       "    <tr>\n",
       "      <th>2</th>\n",
       "      <td>QCM_26-68deg_0V_no_suppression_bias.txt</td>\n",
       "      <td>-3.803623e-08</td>\n",
       "      <td>-6.124213e-08</td>\n",
       "      <td>-1.409571e-08</td>\n",
       "      <td>1.173420e-04</td>\n",
       "      <td>-0.013693</td>\n",
       "      <td>-0.022047</td>\n",
       "      <td>-0.005074</td>\n",
       "      <td>0</td>\n",
       "      <td>240</td>\n",
       "      <td>9.170996e-08</td>\n",
       "      <td>1.071862e-05</td>\n",
       "      <td>0.033016</td>\n",
       "    </tr>\n",
       "    <tr>\n",
       "      <th>3</th>\n",
       "      <td>Random QCM File Name.txt</td>\n",
       "      <td>4.206201e-07</td>\n",
       "      <td>3.948984e-07</td>\n",
       "      <td>4.462196e-07</td>\n",
       "      <td>4.597895e-05</td>\n",
       "      <td>0.151423</td>\n",
       "      <td>0.142163</td>\n",
       "      <td>0.160639</td>\n",
       "      <td>0</td>\n",
       "      <td>126</td>\n",
       "      <td>4.241279e-07</td>\n",
       "      <td>4.542452e-05</td>\n",
       "      <td>0.152686</td>\n",
       "    </tr>\n",
       "    <tr>\n",
       "      <th>4</th>\n",
       "      <td>QCM_26-68deg_0V_300V_suppression_bias.txt</td>\n",
       "      <td>2.888467e-07</td>\n",
       "      <td>2.752586e-07</td>\n",
       "      <td>3.033157e-07</td>\n",
       "      <td>-7.794022e-05</td>\n",
       "      <td>0.103985</td>\n",
       "      <td>0.099093</td>\n",
       "      <td>0.109194</td>\n",
       "      <td>0</td>\n",
       "      <td>243</td>\n",
       "      <td>2.830042e-07</td>\n",
       "      <td>-7.258281e-05</td>\n",
       "      <td>0.101881</td>\n",
       "    </tr>\n",
       "    <tr>\n",
       "      <th>5</th>\n",
       "      <td>QCM_26-68deg_34V_300V_suppression_bias.txt</td>\n",
       "      <td>3.096878e-07</td>\n",
       "      <td>2.916263e-07</td>\n",
       "      <td>3.278173e-07</td>\n",
       "      <td>-2.331385e-05</td>\n",
       "      <td>0.111488</td>\n",
       "      <td>0.104985</td>\n",
       "      <td>0.118014</td>\n",
       "      <td>0</td>\n",
       "      <td>122</td>\n",
       "      <td>3.130340e-07</td>\n",
       "      <td>-2.306579e-05</td>\n",
       "      <td>0.112692</td>\n",
       "    </tr>\n",
       "    <tr>\n",
       "      <th>6</th>\n",
       "      <td>QCM_26-68deg_34V_no_suppression_bias.txt</td>\n",
       "      <td>1.261980e-07</td>\n",
       "      <td>1.082190e-07</td>\n",
       "      <td>1.452148e-07</td>\n",
       "      <td>1.681885e-04</td>\n",
       "      <td>0.045431</td>\n",
       "      <td>0.038959</td>\n",
       "      <td>0.052277</td>\n",
       "      <td>0</td>\n",
       "      <td>121</td>\n",
       "      <td>1.347113e-07</td>\n",
       "      <td>1.684613e-04</td>\n",
       "      <td>0.048496</td>\n",
       "    </tr>\n",
       "  </tbody>\n",
       "</table>\n",
       "</div>"
      ],
      "text/plain": [
       "                                      Filename         Slope      Lower ci  \\\n",
       "0  QCM_26-68deg_150V_300V_suppression_bias.txt  3.277769e-07  3.153623e-07   \n",
       "1  QCM_26-68deg_100V_300V_suppression_bias.txt  2.269526e-07  2.205683e-07   \n",
       "2      QCM_26-68deg_0V_no_suppression_bias.txt -3.803623e-08 -6.124213e-08   \n",
       "3                     Random QCM File Name.txt  4.206201e-07  3.948984e-07   \n",
       "4    QCM_26-68deg_0V_300V_suppression_bias.txt  2.888467e-07  2.752586e-07   \n",
       "5   QCM_26-68deg_34V_300V_suppression_bias.txt  3.096878e-07  2.916263e-07   \n",
       "6     QCM_26-68deg_34V_no_suppression_bias.txt  1.261980e-07  1.082190e-07   \n",
       "\n",
       "       Upper ci         y_int      Rate  Lower Rate  Upper Rate  Start  End  \\\n",
       "0  3.400715e-07 -8.480755e-06  0.118000    0.113530    0.122426      0  242   \n",
       "1  2.333023e-07 -3.074865e-07  0.081703    0.079405    0.083989      0  237   \n",
       "2 -1.409571e-08  1.173420e-04 -0.013693   -0.022047   -0.005074      0  240   \n",
       "3  4.462196e-07  4.597895e-05  0.151423    0.142163    0.160639      0  126   \n",
       "4  3.033157e-07 -7.794022e-05  0.103985    0.099093    0.109194      0  243   \n",
       "5  3.278173e-07 -2.331385e-05  0.111488    0.104985    0.118014      0  122   \n",
       "6  1.452148e-07  1.681885e-04  0.045431    0.038959    0.052277      0  121   \n",
       "\n",
       "       RANSAC_m      RANSAC_b  RANSAC Rate  \n",
       "0  3.278580e-07 -8.879341e-06     0.118029  \n",
       "1  2.277113e-07 -4.254650e-07     0.081976  \n",
       "2  9.170996e-08  1.071862e-05     0.033016  \n",
       "3  4.241279e-07  4.542452e-05     0.152686  \n",
       "4  2.830042e-07 -7.258281e-05     0.101881  \n",
       "5  3.130340e-07 -2.306579e-05     0.112692  \n",
       "6  1.347113e-07  1.684613e-04     0.048496  "
      ]
     },
     "execution_count": 2,
     "metadata": {},
     "output_type": "execute_result"
    }
   ],
   "source": [
    "dir_path = '/Users/braden/Documents/ProbeTools/Testbed'\n",
    "process_directory(dir_path)"
   ]
  },
  {
   "cell_type": "code",
   "execution_count": null,
   "metadata": {},
   "outputs": [],
   "source": []
  }
 ],
 "metadata": {
  "kernelspec": {
   "display_name": "base",
   "language": "python",
   "name": "python3"
  },
  "language_info": {
   "codemirror_mode": {
    "name": "ipython",
    "version": 3
   },
   "file_extension": ".py",
   "mimetype": "text/x-python",
   "name": "python",
   "nbconvert_exporter": "python",
   "pygments_lexer": "ipython3",
   "version": "3.11.8"
  },
  "orig_nbformat": 4
 },
 "nbformat": 4,
 "nbformat_minor": 2
}
